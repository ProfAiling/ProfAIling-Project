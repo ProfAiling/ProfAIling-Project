{
 "cells": [
  {
   "cell_type": "markdown",
   "metadata": {},
   "source": [
    "# Requirements"
   ]
  },
  {
   "cell_type": "code",
   "execution_count": 2,
   "metadata": {},
   "outputs": [],
   "source": [
    "# Required libraries.\n",
    "import pandas as pd\n",
    "import json\n",
    "import numpy as np\n",
    "import matplotlib.pyplot as plt\n",
    "import spacy\n",
    "import string\n",
    "import nltk\n",
    "from nltk.corpus import stopwords\n",
    "import warnings\n",
    "warnings.filterwarnings(\"ignore\")\n",
    "from spacy import tokenizer\n",
    "from spacy.lang.en import English\n",
    "nlp = English()\n",
    "tkz = tokenizer.Tokenizer(nlp.vocab)\n",
    "from tqdm import tqdm\n",
    "from nltk.tokenize import sent_tokenize\n",
    "import seaborn as sns\n",
    "import plotly.graph_objects as go\n",
    "import plotly.express as px\n",
    "import re\n",
    "from bs4 import BeautifulSoup\n",
    "import plotly.io as pio\n",
    "from plotly.subplots import make_subplots\n",
    "import plotly.figure_factory as ff\n",
    "import unicodedata\n",
    "import pickle"
   ]
  },
  {
   "cell_type": "markdown",
   "metadata": {},
   "source": [
    "# Import data\n",
    "\n",
    "#### We import *embedding*, containing posts, embedding and labels, and *features*, containing the features we extracted in the corresponding notebook"
   ]
  },
  {
   "cell_type": "code",
   "execution_count": 3,
   "metadata": {},
   "outputs": [
    {
     "data": {
      "text/html": [
       "<div>\n",
       "<style scoped>\n",
       "    .dataframe tbody tr th:only-of-type {\n",
       "        vertical-align: middle;\n",
       "    }\n",
       "\n",
       "    .dataframe tbody tr th {\n",
       "        vertical-align: top;\n",
       "    }\n",
       "\n",
       "    .dataframe thead th {\n",
       "        text-align: right;\n",
       "    }\n",
       "</style>\n",
       "<table border=\"1\" class=\"dataframe\">\n",
       "  <thead>\n",
       "    <tr style=\"text-align: right;\">\n",
       "      <th></th>\n",
       "      <th>embedding</th>\n",
       "    </tr>\n",
       "  </thead>\n",
       "  <tbody>\n",
       "    <tr>\n",
       "      <th>1</th>\n",
       "      <td>[-0.12765062, -0.008142131, -0.02058363, -0.05...</td>\n",
       "    </tr>\n",
       "    <tr>\n",
       "      <th>2</th>\n",
       "      <td>[-0.07554571, -0.01604788, 0.037005804, 0.0478...</td>\n",
       "    </tr>\n",
       "    <tr>\n",
       "      <th>3</th>\n",
       "      <td>[-0.054309648, 0.120382324, 0.01667131, 0.0222...</td>\n",
       "    </tr>\n",
       "    <tr>\n",
       "      <th>4</th>\n",
       "      <td>[-0.044570502, -0.11837147, 0.018605148, 0.028...</td>\n",
       "    </tr>\n",
       "    <tr>\n",
       "      <th>5</th>\n",
       "      <td>[-0.014926629, 0.058680117, 0.10058031, 0.0757...</td>\n",
       "    </tr>\n",
       "    <tr>\n",
       "      <th>...</th>\n",
       "      <td>...</td>\n",
       "    </tr>\n",
       "    <tr>\n",
       "      <th>526806</th>\n",
       "      <td>[-0.04391508, -0.04225395, 0.008524458, -0.069...</td>\n",
       "    </tr>\n",
       "    <tr>\n",
       "      <th>526807</th>\n",
       "      <td>[-0.027237782, 0.041711215, 0.074862875, -0.03...</td>\n",
       "    </tr>\n",
       "    <tr>\n",
       "      <th>526809</th>\n",
       "      <td>[-0.023386871, -0.043085545, -0.034292, 0.0733...</td>\n",
       "    </tr>\n",
       "    <tr>\n",
       "      <th>526810</th>\n",
       "      <td>[-0.003149762, 0.06911602, 0.060416125, 0.0145...</td>\n",
       "    </tr>\n",
       "    <tr>\n",
       "      <th>526811</th>\n",
       "      <td>[-0.0021229745, -0.004084602, 0.040437568, 0.0...</td>\n",
       "    </tr>\n",
       "  </tbody>\n",
       "</table>\n",
       "<p>480383 rows × 1 columns</p>\n",
       "</div>"
      ],
      "text/plain": [
       "                                                embedding\n",
       "1       [-0.12765062, -0.008142131, -0.02058363, -0.05...\n",
       "2       [-0.07554571, -0.01604788, 0.037005804, 0.0478...\n",
       "3       [-0.054309648, 0.120382324, 0.01667131, 0.0222...\n",
       "4       [-0.044570502, -0.11837147, 0.018605148, 0.028...\n",
       "5       [-0.014926629, 0.058680117, 0.10058031, 0.0757...\n",
       "...                                                   ...\n",
       "526806  [-0.04391508, -0.04225395, 0.008524458, -0.069...\n",
       "526807  [-0.027237782, 0.041711215, 0.074862875, -0.03...\n",
       "526809  [-0.023386871, -0.043085545, -0.034292, 0.0733...\n",
       "526810  [-0.003149762, 0.06911602, 0.060416125, 0.0145...\n",
       "526811  [-0.0021229745, -0.004084602, 0.040437568, 0.0...\n",
       "\n",
       "[480383 rows x 1 columns]"
      ]
     },
     "execution_count": 3,
     "metadata": {},
     "output_type": "execute_result"
    }
   ],
   "source": [
    "embedding1 = pd.read_pickle('/Users/simonefacchiano/Desktop/Data Science/SL/Project/SL-Final-Project/embedding_200mila.pkl')\n",
    "embedding1 = embedding1[['embedding']]\n",
    "\n",
    "embedding2 = pd.read_pickle('/Users/simonefacchiano/Desktop/Data Science/SL/Project/SL-Final-Project/embedding_300mila.pkl')\n",
    "embedding2 = embedding2[['embedding']]\n",
    "\n",
    "embedding = pd.concat([embedding1, embedding2], ignore_index=False)\n",
    "embedding"
   ]
  },
  {
   "cell_type": "code",
   "execution_count": 5,
   "metadata": {},
   "outputs": [
    {
     "data": {
      "text/html": [
       "<div>\n",
       "<style scoped>\n",
       "    .dataframe tbody tr th:only-of-type {\n",
       "        vertical-align: middle;\n",
       "    }\n",
       "\n",
       "    .dataframe tbody tr th {\n",
       "        vertical-align: top;\n",
       "    }\n",
       "\n",
       "    .dataframe thead th {\n",
       "        text-align: right;\n",
       "    }\n",
       "</style>\n",
       "<table border=\"1\" class=\"dataframe\">\n",
       "  <thead>\n",
       "    <tr style=\"text-align: right;\">\n",
       "      <th></th>\n",
       "      <th>post</th>\n",
       "      <th>clean_post</th>\n",
       "      <th>gender</th>\n",
       "      <th>age_class</th>\n",
       "      <th>word_count</th>\n",
       "      <th>has_emoticon</th>\n",
       "      <th>has_punctuation</th>\n",
       "      <th>has_hope</th>\n",
       "      <th>has_hehe</th>\n",
       "      <th>has_weeks</th>\n",
       "      <th>...</th>\n",
       "      <th>has_taking</th>\n",
       "      <th>has_bill</th>\n",
       "      <th>has_hey</th>\n",
       "      <th>has_saturday</th>\n",
       "      <th>has_remember</th>\n",
       "      <th>has_party</th>\n",
       "      <th>has_walking</th>\n",
       "      <th>has_share</th>\n",
       "      <th>has_brother</th>\n",
       "      <th>has_URL</th>\n",
       "    </tr>\n",
       "  </thead>\n",
       "  <tbody>\n",
       "    <tr>\n",
       "      <th>0</th>\n",
       "      <td>ooh shiny commenting</td>\n",
       "      <td>ooh shiny commenting</td>\n",
       "      <td>female</td>\n",
       "      <td>0</td>\n",
       "      <td>3</td>\n",
       "      <td>0</td>\n",
       "      <td>0</td>\n",
       "      <td>0</td>\n",
       "      <td>0</td>\n",
       "      <td>0</td>\n",
       "      <td>...</td>\n",
       "      <td>0</td>\n",
       "      <td>0</td>\n",
       "      <td>0</td>\n",
       "      <td>0</td>\n",
       "      <td>0</td>\n",
       "      <td>0</td>\n",
       "      <td>0</td>\n",
       "      <td>0</td>\n",
       "      <td>0</td>\n",
       "      <td>0</td>\n",
       "    </tr>\n",
       "    <tr>\n",
       "      <th>1</th>\n",
       "      <td>wuts parade suked band battle kicked ass jims ...</td>\n",
       "      <td>wuts parade suked band battle kicked ass jims ...</td>\n",
       "      <td>male</td>\n",
       "      <td>0</td>\n",
       "      <td>15</td>\n",
       "      <td>0</td>\n",
       "      <td>0</td>\n",
       "      <td>0</td>\n",
       "      <td>0</td>\n",
       "      <td>0</td>\n",
       "      <td>...</td>\n",
       "      <td>0</td>\n",
       "      <td>0</td>\n",
       "      <td>0</td>\n",
       "      <td>0</td>\n",
       "      <td>0</td>\n",
       "      <td>1</td>\n",
       "      <td>0</td>\n",
       "      <td>0</td>\n",
       "      <td>0</td>\n",
       "      <td>0</td>\n",
       "    </tr>\n",
       "    <tr>\n",
       "      <th>2</th>\n",
       "      <td>anymore concerned everyday bold faced liar ahe...</td>\n",
       "      <td>anymore concerned everyday bold faced liar ahe...</td>\n",
       "      <td>female</td>\n",
       "      <td>1</td>\n",
       "      <td>25</td>\n",
       "      <td>0</td>\n",
       "      <td>0</td>\n",
       "      <td>1</td>\n",
       "      <td>0</td>\n",
       "      <td>0</td>\n",
       "      <td>...</td>\n",
       "      <td>0</td>\n",
       "      <td>0</td>\n",
       "      <td>0</td>\n",
       "      <td>0</td>\n",
       "      <td>0</td>\n",
       "      <td>1</td>\n",
       "      <td>0</td>\n",
       "      <td>0</td>\n",
       "      <td>0</td>\n",
       "      <td>0</td>\n",
       "    </tr>\n",
       "    <tr>\n",
       "      <th>3</th>\n",
       "      <td>roof sunset posted paul</td>\n",
       "      <td>roof sunset posted paul</td>\n",
       "      <td>male</td>\n",
       "      <td>1</td>\n",
       "      <td>4</td>\n",
       "      <td>0</td>\n",
       "      <td>0</td>\n",
       "      <td>0</td>\n",
       "      <td>0</td>\n",
       "      <td>0</td>\n",
       "      <td>...</td>\n",
       "      <td>0</td>\n",
       "      <td>0</td>\n",
       "      <td>0</td>\n",
       "      <td>0</td>\n",
       "      <td>0</td>\n",
       "      <td>0</td>\n",
       "      <td>0</td>\n",
       "      <td>0</td>\n",
       "      <td>0</td>\n",
       "      <td>0</td>\n",
       "    </tr>\n",
       "    <tr>\n",
       "      <th>4</th>\n",
       "      <td>gawd luv nanny absolutely greatest woman earth...</td>\n",
       "      <td>gawd luv nanny absolutely greatest woman earth...</td>\n",
       "      <td>female</td>\n",
       "      <td>1</td>\n",
       "      <td>204</td>\n",
       "      <td>0</td>\n",
       "      <td>0</td>\n",
       "      <td>0</td>\n",
       "      <td>0</td>\n",
       "      <td>0</td>\n",
       "      <td>...</td>\n",
       "      <td>0</td>\n",
       "      <td>0</td>\n",
       "      <td>0</td>\n",
       "      <td>0</td>\n",
       "      <td>0</td>\n",
       "      <td>0</td>\n",
       "      <td>0</td>\n",
       "      <td>0</td>\n",
       "      <td>0</td>\n",
       "      <td>0</td>\n",
       "    </tr>\n",
       "    <tr>\n",
       "      <th>...</th>\n",
       "      <td>...</td>\n",
       "      <td>...</td>\n",
       "      <td>...</td>\n",
       "      <td>...</td>\n",
       "      <td>...</td>\n",
       "      <td>...</td>\n",
       "      <td>...</td>\n",
       "      <td>...</td>\n",
       "      <td>...</td>\n",
       "      <td>...</td>\n",
       "      <td>...</td>\n",
       "      <td>...</td>\n",
       "      <td>...</td>\n",
       "      <td>...</td>\n",
       "      <td>...</td>\n",
       "      <td>...</td>\n",
       "      <td>...</td>\n",
       "      <td>...</td>\n",
       "      <td>...</td>\n",
       "      <td>...</td>\n",
       "      <td>...</td>\n",
       "    </tr>\n",
       "    <tr>\n",
       "      <th>526807</th>\n",
       "      <td>write injuries sand kindnesses marble french p...</td>\n",
       "      <td>write injuries sand kindnesses marble french p...</td>\n",
       "      <td>male</td>\n",
       "      <td>2</td>\n",
       "      <td>10</td>\n",
       "      <td>0</td>\n",
       "      <td>0</td>\n",
       "      <td>0</td>\n",
       "      <td>0</td>\n",
       "      <td>0</td>\n",
       "      <td>...</td>\n",
       "      <td>0</td>\n",
       "      <td>0</td>\n",
       "      <td>0</td>\n",
       "      <td>0</td>\n",
       "      <td>0</td>\n",
       "      <td>0</td>\n",
       "      <td>0</td>\n",
       "      <td>0</td>\n",
       "      <td>0</td>\n",
       "      <td>0</td>\n",
       "    </tr>\n",
       "    <tr>\n",
       "      <th>526808</th>\n",
       "      <td>wes dad stan</td>\n",
       "      <td>wes dad stan</td>\n",
       "      <td>female</td>\n",
       "      <td>1</td>\n",
       "      <td>3</td>\n",
       "      <td>0</td>\n",
       "      <td>0</td>\n",
       "      <td>0</td>\n",
       "      <td>0</td>\n",
       "      <td>0</td>\n",
       "      <td>...</td>\n",
       "      <td>0</td>\n",
       "      <td>0</td>\n",
       "      <td>0</td>\n",
       "      <td>0</td>\n",
       "      <td>0</td>\n",
       "      <td>0</td>\n",
       "      <td>0</td>\n",
       "      <td>0</td>\n",
       "      <td>0</td>\n",
       "      <td>0</td>\n",
       "    </tr>\n",
       "    <tr>\n",
       "      <th>526809</th>\n",
       "      <td>prefer calling nice guy fact obviously carried...</td>\n",
       "      <td>prefer calling nice guy fact obviously carried...</td>\n",
       "      <td>male</td>\n",
       "      <td>0</td>\n",
       "      <td>41</td>\n",
       "      <td>0</td>\n",
       "      <td>0</td>\n",
       "      <td>0</td>\n",
       "      <td>0</td>\n",
       "      <td>0</td>\n",
       "      <td>...</td>\n",
       "      <td>0</td>\n",
       "      <td>0</td>\n",
       "      <td>0</td>\n",
       "      <td>0</td>\n",
       "      <td>0</td>\n",
       "      <td>0</td>\n",
       "      <td>0</td>\n",
       "      <td>0</td>\n",
       "      <td>0</td>\n",
       "      <td>0</td>\n",
       "    </tr>\n",
       "    <tr>\n",
       "      <th>526810</th>\n",
       "      <td>angela othello noah shaved head short hair sho...</td>\n",
       "      <td>angela othello noah shaved head short hair sho...</td>\n",
       "      <td>female</td>\n",
       "      <td>0</td>\n",
       "      <td>25</td>\n",
       "      <td>0</td>\n",
       "      <td>0</td>\n",
       "      <td>0</td>\n",
       "      <td>0</td>\n",
       "      <td>0</td>\n",
       "      <td>...</td>\n",
       "      <td>0</td>\n",
       "      <td>0</td>\n",
       "      <td>0</td>\n",
       "      <td>0</td>\n",
       "      <td>0</td>\n",
       "      <td>0</td>\n",
       "      <td>0</td>\n",
       "      <td>0</td>\n",
       "      <td>0</td>\n",
       "      <td>0</td>\n",
       "    </tr>\n",
       "    <tr>\n",
       "      <th>526811</th>\n",
       "      <td>keeping short busy wasting ways online hobbies...</td>\n",
       "      <td>keeping short busy wasting ways online hobbies...</td>\n",
       "      <td>female</td>\n",
       "      <td>2</td>\n",
       "      <td>83</td>\n",
       "      <td>0</td>\n",
       "      <td>0</td>\n",
       "      <td>0</td>\n",
       "      <td>0</td>\n",
       "      <td>0</td>\n",
       "      <td>...</td>\n",
       "      <td>0</td>\n",
       "      <td>0</td>\n",
       "      <td>0</td>\n",
       "      <td>0</td>\n",
       "      <td>0</td>\n",
       "      <td>0</td>\n",
       "      <td>0</td>\n",
       "      <td>0</td>\n",
       "      <td>0</td>\n",
       "      <td>0</td>\n",
       "    </tr>\n",
       "  </tbody>\n",
       "</table>\n",
       "<p>503897 rows × 547 columns</p>\n",
       "</div>"
      ],
      "text/plain": [
       "                                                     post  \\\n",
       "0                                    ooh shiny commenting   \n",
       "1       wuts parade suked band battle kicked ass jims ...   \n",
       "2       anymore concerned everyday bold faced liar ahe...   \n",
       "3                                 roof sunset posted paul   \n",
       "4       gawd luv nanny absolutely greatest woman earth...   \n",
       "...                                                   ...   \n",
       "526807  write injuries sand kindnesses marble french p...   \n",
       "526808                                       wes dad stan   \n",
       "526809  prefer calling nice guy fact obviously carried...   \n",
       "526810  angela othello noah shaved head short hair sho...   \n",
       "526811  keeping short busy wasting ways online hobbies...   \n",
       "\n",
       "                                               clean_post  gender  age_class  \\\n",
       "0                                    ooh shiny commenting  female          0   \n",
       "1       wuts parade suked band battle kicked ass jims ...    male          0   \n",
       "2       anymore concerned everyday bold faced liar ahe...  female          1   \n",
       "3                                 roof sunset posted paul    male          1   \n",
       "4       gawd luv nanny absolutely greatest woman earth...  female          1   \n",
       "...                                                   ...     ...        ...   \n",
       "526807  write injuries sand kindnesses marble french p...    male          2   \n",
       "526808                                       wes dad stan  female          1   \n",
       "526809  prefer calling nice guy fact obviously carried...    male          0   \n",
       "526810  angela othello noah shaved head short hair sho...  female          0   \n",
       "526811  keeping short busy wasting ways online hobbies...  female          2   \n",
       "\n",
       "        word_count  has_emoticon  has_punctuation  has_hope  has_hehe  \\\n",
       "0                3             0                0         0         0   \n",
       "1               15             0                0         0         0   \n",
       "2               25             0                0         1         0   \n",
       "3                4             0                0         0         0   \n",
       "4              204             0                0         0         0   \n",
       "...            ...           ...              ...       ...       ...   \n",
       "526807          10             0                0         0         0   \n",
       "526808           3             0                0         0         0   \n",
       "526809          41             0                0         0         0   \n",
       "526810          25             0                0         0         0   \n",
       "526811          83             0                0         0         0   \n",
       "\n",
       "        has_weeks  ...  has_taking  has_bill  has_hey  has_saturday  \\\n",
       "0               0  ...           0         0        0             0   \n",
       "1               0  ...           0         0        0             0   \n",
       "2               0  ...           0         0        0             0   \n",
       "3               0  ...           0         0        0             0   \n",
       "4               0  ...           0         0        0             0   \n",
       "...           ...  ...         ...       ...      ...           ...   \n",
       "526807          0  ...           0         0        0             0   \n",
       "526808          0  ...           0         0        0             0   \n",
       "526809          0  ...           0         0        0             0   \n",
       "526810          0  ...           0         0        0             0   \n",
       "526811          0  ...           0         0        0             0   \n",
       "\n",
       "        has_remember  has_party  has_walking  has_share  has_brother  has_URL  \n",
       "0                  0          0            0          0            0        0  \n",
       "1                  0          1            0          0            0        0  \n",
       "2                  0          1            0          0            0        0  \n",
       "3                  0          0            0          0            0        0  \n",
       "4                  0          0            0          0            0        0  \n",
       "...              ...        ...          ...        ...          ...      ...  \n",
       "526807             0          0            0          0            0        0  \n",
       "526808             0          0            0          0            0        0  \n",
       "526809             0          0            0          0            0        0  \n",
       "526810             0          0            0          0            0        0  \n",
       "526811             0          0            0          0            0        0  \n",
       "\n",
       "[503897 rows x 547 columns]"
      ]
     },
     "execution_count": 5,
     "metadata": {},
     "output_type": "execute_result"
    }
   ],
   "source": [
    "# Import dataset with additional features (TODO: metti tutto insieme nel file di preprocessing)\n",
    "features = pd.read_pickle('/Users/simonefacchiano/Desktop/Data Science/SL/Project/train_features_paper.pkl')\n",
    "features"
   ]
  },
  {
   "cell_type": "code",
   "execution_count": 24,
   "metadata": {},
   "outputs": [
    {
     "data": {
      "text/html": [
       "<div>\n",
       "<style scoped>\n",
       "    .dataframe tbody tr th:only-of-type {\n",
       "        vertical-align: middle;\n",
       "    }\n",
       "\n",
       "    .dataframe tbody tr th {\n",
       "        vertical-align: top;\n",
       "    }\n",
       "\n",
       "    .dataframe thead th {\n",
       "        text-align: right;\n",
       "    }\n",
       "</style>\n",
       "<table border=\"1\" class=\"dataframe\">\n",
       "  <thead>\n",
       "    <tr style=\"text-align: right;\">\n",
       "      <th></th>\n",
       "      <th>post</th>\n",
       "      <th>age</th>\n",
       "      <th>gender</th>\n",
       "      <th>embedding</th>\n",
       "      <th>age_class</th>\n",
       "    </tr>\n",
       "  </thead>\n",
       "  <tbody>\n",
       "    <tr>\n",
       "      <th>0</th>\n",
       "      <td>thabo admits defeat quiet diplomacy mbeki stat...</td>\n",
       "      <td>27</td>\n",
       "      <td>1</td>\n",
       "      <td>[-0.06341848, -0.00037825145, -0.016663542, -0...</td>\n",
       "      <td>1</td>\n",
       "    </tr>\n",
       "    <tr>\n",
       "      <th>1</th>\n",
       "      <td>brainbench welcomes millionth subscriber annou...</td>\n",
       "      <td>25</td>\n",
       "      <td>1</td>\n",
       "      <td>[-0.060284454, -0.055480707, 0.00930549, -0.01...</td>\n",
       "      <td>1</td>\n",
       "    </tr>\n",
       "    <tr>\n",
       "      <th>2</th>\n",
       "      <td>air jerusalem dry heavy sense weight shoulders...</td>\n",
       "      <td>23</td>\n",
       "      <td>0</td>\n",
       "      <td>[0.010743902, 0.07802959, 0.06183355, 0.068029...</td>\n",
       "      <td>1</td>\n",
       "    </tr>\n",
       "    <tr>\n",
       "      <th>3</th>\n",
       "      <td>embarassing sensitive wish sensitive thick ski...</td>\n",
       "      <td>25</td>\n",
       "      <td>0</td>\n",
       "      <td>[-0.062046394, -0.057088595, 0.06919461, 0.053...</td>\n",
       "      <td>1</td>\n",
       "    </tr>\n",
       "    <tr>\n",
       "      <th>4</th>\n",
       "      <td>glass artist firing excuse research fused glas...</td>\n",
       "      <td>38</td>\n",
       "      <td>0</td>\n",
       "      <td>[-0.0025419437, -0.03190446, 0.014133493, -0.0...</td>\n",
       "      <td>2</td>\n",
       "    </tr>\n",
       "    <tr>\n",
       "      <th>...</th>\n",
       "      <td>...</td>\n",
       "      <td>...</td>\n",
       "      <td>...</td>\n",
       "      <td>...</td>\n",
       "      <td>...</td>\n",
       "    </tr>\n",
       "    <tr>\n",
       "      <th>131698</th>\n",
       "      <td>em hope job sounds million times drinks times ...</td>\n",
       "      <td>26</td>\n",
       "      <td>0</td>\n",
       "      <td>[-0.032921113, -0.07573543, 0.013446527, -0.04...</td>\n",
       "      <td>1</td>\n",
       "    </tr>\n",
       "    <tr>\n",
       "      <th>131699</th>\n",
       "      <td>blood pressure high blood work whatnot tuesday...</td>\n",
       "      <td>27</td>\n",
       "      <td>0</td>\n",
       "      <td>[-0.07032361, -0.0056662075, 0.049271625, -0.0...</td>\n",
       "      <td>1</td>\n",
       "    </tr>\n",
       "    <tr>\n",
       "      <th>131700</th>\n",
       "      <td>hoping news news absence inspiration enthusias...</td>\n",
       "      <td>24</td>\n",
       "      <td>0</td>\n",
       "      <td>[0.01240979, 0.009257221, -0.009716861, 0.0415...</td>\n",
       "      <td>1</td>\n",
       "    </tr>\n",
       "    <tr>\n",
       "      <th>131701</th>\n",
       "      <td>slow couple egregious errors anna told wanted ...</td>\n",
       "      <td>36</td>\n",
       "      <td>1</td>\n",
       "      <td>[-0.034908127, 0.02392359, 0.0663985, 0.002502...</td>\n",
       "      <td>2</td>\n",
       "    </tr>\n",
       "    <tr>\n",
       "      <th>131702</th>\n",
       "      <td>arafat offices gaza burned abc news dozens mil...</td>\n",
       "      <td>48</td>\n",
       "      <td>1</td>\n",
       "      <td>[0.036015436, -0.01788257, 0.025198337, -0.013...</td>\n",
       "      <td>2</td>\n",
       "    </tr>\n",
       "  </tbody>\n",
       "</table>\n",
       "<p>130378 rows × 5 columns</p>\n",
       "</div>"
      ],
      "text/plain": [
       "                                                     post  age  gender  \\\n",
       "0       thabo admits defeat quiet diplomacy mbeki stat...   27       1   \n",
       "1       brainbench welcomes millionth subscriber annou...   25       1   \n",
       "2       air jerusalem dry heavy sense weight shoulders...   23       0   \n",
       "3       embarassing sensitive wish sensitive thick ski...   25       0   \n",
       "4       glass artist firing excuse research fused glas...   38       0   \n",
       "...                                                   ...  ...     ...   \n",
       "131698  em hope job sounds million times drinks times ...   26       0   \n",
       "131699  blood pressure high blood work whatnot tuesday...   27       0   \n",
       "131700  hoping news news absence inspiration enthusias...   24       0   \n",
       "131701  slow couple egregious errors anna told wanted ...   36       1   \n",
       "131702  arafat offices gaza burned abc news dozens mil...   48       1   \n",
       "\n",
       "                                                embedding  age_class  \n",
       "0       [-0.06341848, -0.00037825145, -0.016663542, -0...          1  \n",
       "1       [-0.060284454, -0.055480707, 0.00930549, -0.01...          1  \n",
       "2       [0.010743902, 0.07802959, 0.06183355, 0.068029...          1  \n",
       "3       [-0.062046394, -0.057088595, 0.06919461, 0.053...          1  \n",
       "4       [-0.0025419437, -0.03190446, 0.014133493, -0.0...          2  \n",
       "...                                                   ...        ...  \n",
       "131698  [-0.032921113, -0.07573543, 0.013446527, -0.04...          1  \n",
       "131699  [-0.07032361, -0.0056662075, 0.049271625, -0.0...          1  \n",
       "131700  [0.01240979, 0.009257221, -0.009716861, 0.0415...          1  \n",
       "131701  [-0.034908127, 0.02392359, 0.0663985, 0.002502...          2  \n",
       "131702  [0.036015436, -0.01788257, 0.025198337, -0.013...          2  \n",
       "\n",
       "[130378 rows x 5 columns]"
      ]
     },
     "execution_count": 24,
     "metadata": {},
     "output_type": "execute_result"
    }
   ],
   "source": [
    "test = pd.read_pickle('/Users/simonefacchiano/Desktop/Data Science/SL/Project/SL-Final-Project/test_embedding.pkl')\n",
    "\n",
    "test['gender'] = test['gender'].map({'male': 1, 'female': 0})\n",
    "test['age_class'] = pd.cut(\n",
    "        test[\"age\"],\n",
    "        bins=[12, 18, 28, 50],\n",
    "        labels=[0, 1, 2]\n",
    "    ).astype(\"int\")\n",
    "\n",
    "test"
   ]
  },
  {
   "cell_type": "markdown",
   "metadata": {},
   "source": [
    "### Fix the labels for the model"
   ]
  },
  {
   "cell_type": "markdown",
   "metadata": {},
   "source": [
    "### Concat embedding and features"
   ]
  },
  {
   "cell_type": "code",
   "execution_count": null,
   "metadata": {},
   "outputs": [],
   "source": [
    "data = pd.merge(embedding, features, left_index=True, right_index=True)\n",
    "data = data[data.post.notna()]\n",
    "\n",
    "data['gender'] = data['gender'].map({'male': 1, 'female': 0})"
   ]
  },
  {
   "cell_type": "markdown",
   "metadata": {},
   "source": [
    "### Removing rows with specific word_count"
   ]
  },
  {
   "cell_type": "code",
   "execution_count": 70,
   "metadata": {},
   "outputs": [
    {
     "data": {
      "text/plain": [
       "(array([7.5872e+04, 1.6030e+04, 4.6920e+03, 1.7430e+03, 7.1400e+02,\n",
       "        3.3900e+02, 2.0200e+02, 1.1400e+02, 7.3000e+01, 5.7000e+01]),\n",
       " array([  0. ,  99.9, 199.8, 299.7, 399.6, 499.5, 599.4, 699.3, 799.2,\n",
       "        899.1, 999. ]),\n",
       " <BarContainer object of 10 artists>)"
      ]
     },
     "execution_count": 70,
     "metadata": {},
     "output_type": "execute_result"
    },
    {
     "data": {
      "image/png": "[encoded data removed]",
      "text/plain": [
       "<Figure size 432x288 with 1 Axes>"
      ]
     },
     "metadata": {
      "needs_background": "light"
     },
     "output_type": "display_data"
    }
   ],
   "source": [
    "import matplotlib.pyplot as plt\n",
    "\n",
    "plt.hist(data[data.word_count < 1000].word_count)"
   ]
  },
  {
   "cell_type": "code",
   "execution_count": 7,
   "metadata": {},
   "outputs": [
    {
     "name": "stdout",
     "output_type": "stream",
     "text": [
      "0\n",
      "4\n"
     ]
    }
   ],
   "source": [
    "print(len( data[data.word_count < 3] ))\n",
    "print(len( data[data.word_count >= 1000] ))"
   ]
  },
  {
   "cell_type": "code",
   "execution_count": 8,
   "metadata": {},
   "outputs": [
    {
     "data": {
      "text/plain": [
       "(480380, 548)"
      ]
     },
     "execution_count": 8,
     "metadata": {},
     "output_type": "execute_result"
    }
   ],
   "source": [
    "# Rimuovi le righe con word count inferiore a 5 o superiore a 1000\n",
    "data = data[(data['word_count'] >= 3) & (data['word_count'] <= 1000)]\n",
    "data.shape"
   ]
  },
  {
   "cell_type": "markdown",
   "metadata": {},
   "source": [
    "# The Model: Predicting the Gender of the author\n",
    "\n",
    "Note: the genders are balanced"
   ]
  },
  {
   "cell_type": "code",
   "execution_count": 9,
   "metadata": {},
   "outputs": [],
   "source": [
    "# Let's first identify the feature matrix and the labels\n",
    "\n",
    "X = data['embedding'].to_list() # ,'has_young_word', 'word_count', 'has_emoticon', 'has_punctuation', 'has_URL'\n",
    "# X = pd.DataFrame(embedding['embedding'].to_list(), columns=[f'embedding_{i+1}' for i in range(384)])\n",
    "# X = pd.concat([X, features], axis = 1)\n",
    "y = data['gender'].to_list()"
   ]
  },
  {
   "cell_type": "code",
   "execution_count": 10,
   "metadata": {},
   "outputs": [
    {
     "name": "stdout",
     "output_type": "stream",
     "text": [
      "The train set has 384304 rows, while the validation set contains 96076 rows: 80% vs 20%.\n"
     ]
    }
   ],
   "source": [
    "# Create the train & validation sets\n",
    "# In this way, every operation of fine tuning will depend on the data observed in the validation, while the final assessment for the quality of the model will be made on the test set\n",
    "\n",
    "from sklearn.model_selection import train_test_split\n",
    "X_train, X_val, y_train, y_val = train_test_split(X, y, test_size = 0.2, stratify = y) # stratification on the y to avoid class imbalancement\n",
    "\n",
    "print(f'The train set has {len(X_train)} rows, while the validation set contains {len(X_val)} rows: 80% vs 20%.')"
   ]
  },
  {
   "cell_type": "markdown",
   "metadata": {},
   "source": [
    "##### Logistic Regression"
   ]
  },
  {
   "cell_type": "code",
   "execution_count": 11,
   "metadata": {},
   "outputs": [
    {
     "data": {
      "text/plain": [
       "LogisticRegression()"
      ]
     },
     "execution_count": 11,
     "metadata": {},
     "output_type": "execute_result"
    }
   ],
   "source": [
    "# We start with a very simple Logistic Regression to see how it works\n",
    "\n",
    "from sklearn.linear_model import LogisticRegression\n",
    "\n",
    "lr = LogisticRegression()\n",
    "lr.fit(X_train, y_train)"
   ]
  },
  {
   "cell_type": "code",
   "execution_count": 12,
   "metadata": {},
   "outputs": [
    {
     "name": "stdout",
     "output_type": "stream",
     "text": [
      "Logistic Regression Accuracy  : 0.6548045297472834\n",
      "Logistic Regression Precision : 0.66300494641385\n",
      "Logistic Regression Recall    : 0.6567380519772166\n",
      "Logistic Regression Balanced Score : 0.6547657303820426\n"
     ]
    }
   ],
   "source": [
    "from sklearn import metrics\n",
    "\n",
    "predicted = lr.predict(X_val)\n",
    "\n",
    "print(f'Logistic Regression Accuracy  : {metrics.accuracy_score(y_val, predicted)}')\n",
    "print(f'Logistic Regression Precision : {metrics.precision_score(y_val, predicted)}')\n",
    "print(f'Logistic Regression Recall    : {metrics.recall_score(y_val, predicted)}')\n",
    "\n",
    "print(f'Logistic Regression Balanced Score : {metrics.balanced_accuracy_score(y_val, predicted)}')\n",
    "\n",
    "\n",
    "####"
   ]
  },
  {
   "cell_type": "code",
   "execution_count": 18,
   "metadata": {},
   "outputs": [
    {
     "data": {
      "text/plain": [
       "array([[30931, 16162],\n",
       "       [17047, 31936]])"
      ]
     },
     "execution_count": 18,
     "metadata": {},
     "output_type": "execute_result"
    }
   ],
   "source": [
    "from sklearn.metrics import confusion_matrix\n",
    "\n",
    "confusion_matrix(y_val, predicted)"
   ]
  },
  {
   "cell_type": "markdown",
   "metadata": {},
   "source": [
    "### Performance on test set"
   ]
  },
  {
   "cell_type": "code",
   "execution_count": 22,
   "metadata": {},
   "outputs": [
    {
     "name": "stdout",
     "output_type": "stream",
     "text": [
      "Logistic Regression Accuracy  : 0.6479390694749114\n",
      "Logistic Regression Balanced Score : 0.6476627370093713\n"
     ]
    }
   ],
   "source": [
    "X_train = data['embedding'].to_list()\n",
    "y_train = data['gender'].to_list()\n",
    "\n",
    "X_test = test['embedding'].to_list()\n",
    "y_test = test['gender'].to_list()\n",
    "\n",
    "lr = LogisticRegression()\n",
    "lr.fit(X_train, y_train)\n",
    "\n",
    "predicted = lr.predict(X_test)\n",
    "\n",
    "print(f'Logistic Regression Accuracy  : {metrics.accuracy_score(y_test, predicted)}')\n",
    "print(f'Logistic Regression Balanced Score : {metrics.balanced_accuracy_score(y_test, predicted)}')"
   ]
  },
  {
   "cell_type": "markdown",
   "metadata": {},
   "source": [
    "### Regularization"
   ]
  },
  {
   "cell_type": "code",
   "execution_count": null,
   "metadata": {},
   "outputs": [],
   "source": [
    "from sklearn.model_selection import GridSearchCV\n",
    "\n",
    "param_grid = {\n",
    "    'C': [10],\n",
    "    'penalty': ['l1', 'l2']\n",
    "    #'max_iter': list(range(100, 800, 200)),\n",
    "    #'solver': ['newton-cg', 'lbfgs', 'liblinear', 'sag', 'saga']\n",
    "}\n",
    "lr_search = GridSearchCV(lr, param_grid=param_grid, refit = True, verbose = 3, cv=5)\n",
    "\n",
    "# fitting the model for grid search \n",
    "lr_search.fit(X_train, y_train)\n",
    "lr_search.best_params_\n",
    "# summarize\n",
    "print('Best Accuracy: %.3f' % lr_search.best_score_)\n",
    "print('Config: %s' % lr_search.best_params_)"
   ]
  },
  {
   "cell_type": "code",
   "execution_count": 86,
   "metadata": {},
   "outputs": [
    {
     "name": "stdout",
     "output_type": "stream",
     "text": [
      "Logistic Regression Accuracy : 0.6499049730757048\n"
     ]
    }
   ],
   "source": [
    "lr = LogisticRegression(C = 10, penalty = 'l2')\n",
    "lr.fit(X_train, y_train)\n",
    "\n",
    "predicted = lr.predict(X_val)\n",
    "\n",
    "print(f'Logistic Regression Accuracy : {metrics.accuracy_score(y_val, predicted)}')"
   ]
  },
  {
   "cell_type": "markdown",
   "metadata": {},
   "source": [
    "#### Naive Bayes"
   ]
  },
  {
   "cell_type": "code",
   "execution_count": 19,
   "metadata": {},
   "outputs": [
    {
     "name": "stdout",
     "output_type": "stream",
     "text": [
      "Accuracy: 0.62\n"
     ]
    }
   ],
   "source": [
    "from sklearn.naive_bayes import GaussianNB\n",
    "from sklearn.metrics import accuracy_score\n",
    "\n",
    "naive_bayes_classifier = GaussianNB()\n",
    "naive_bayes_classifier.fit(X_train, y_train)\n",
    "\n",
    "y_pred = naive_bayes_classifier.predict(X_val)\n",
    "\n",
    "accuracy = accuracy_score(y_val, y_pred)\n",
    "print(f'Accuracy: {accuracy:.2f}')"
   ]
  },
  {
   "cell_type": "markdown",
   "metadata": {},
   "source": [
    "#### XgBoost"
   ]
  },
  {
   "cell_type": "code",
   "execution_count": 44,
   "metadata": {},
   "outputs": [],
   "source": [
    "import xgboost as xgb"
   ]
  },
  {
   "cell_type": "code",
   "execution_count": 48,
   "metadata": {},
   "outputs": [],
   "source": [
    "X = small_data['embedding'].to_list() # ,'has_young_word', 'word_count', 'has_emoticon', 'has_punctuation', 'has_URL'\n",
    "y = small_data['gender'].to_list()\n",
    "\n",
    "X_train, X_val, y_train, y_val = train_test_split(X, y, test_size = 0.2, stratify = y)"
   ]
  },
  {
   "cell_type": "code",
   "execution_count": 52,
   "metadata": {},
   "outputs": [],
   "source": [
    "# XGBoost (different learning rate)\n",
    "learning_rate_range = np.arange(0.01, 1, 0.1)\n",
    "val_XG = [] \n",
    "train_XG = []\n",
    "for lr in learning_rate_range:\n",
    "    xgb_classifier = xgb.XGBClassifier(eta = lr)\n",
    "    xgb_classifier.fit(X_train, y_train)\n",
    "    train_XG.append(xgb_classifier.score(X_train, y_train))\n",
    "    val_XG.append(xgb_classifier.score(X_val, y_val))"
   ]
  },
  {
   "cell_type": "code",
   "execution_count": 53,
   "metadata": {},
   "outputs": [
    {
     "data": {
      "image/png": "[encoded data removed]",
      "text/plain": [
       "<Figure size 720x504 with 1 Axes>"
      ]
     },
     "metadata": {
      "needs_background": "light"
     },
     "output_type": "display_data"
    }
   ],
   "source": [
    "fig = plt.figure(figsize=(10, 7))\n",
    "plt.plot(learning_rate_range, train_XG, c='orange', label='Train')\n",
    "plt.plot(learning_rate_range, val_XG, c='m', label='Test')\n",
    "plt.xlabel('Learning rate')\n",
    "plt.xticks(learning_rate_range)\n",
    "plt.ylabel('Accuracy score')\n",
    "plt.ylim(0.6, 1)\n",
    "plt.legend(prop={'size': 12}, loc=3)\n",
    "plt.title('Accuracy score vs. Learning rate of XGBoost', size=14)\n",
    "plt.show()    "
   ]
  },
  {
   "cell_type": "markdown",
   "metadata": {},
   "source": [
    "### What if we add features?"
   ]
  },
  {
   "cell_type": "code",
   "execution_count": null,
   "metadata": {},
   "outputs": [],
   "source": [
    "X = pd.DataFrame(data['embedding'].to_list(), columns=[f'embedding_{i+1}' for i in range(384)])\n",
    "X = pd.concat([X.reset_index(drop=True), data[data.columns.difference(['embedding', 'post', 'clean_post', 'gender', 'age_class', 'has_capital'])].reset_index(drop=True)], axis = 1) \n",
    "\n",
    "# X = pd.DataFrame(data[data.columns.difference(['embedding', 'post', 'clean_post', 'gender', 'age_class', 'has_capital'])])\n",
    "\n",
    "y = data['gender'].to_list()"
   ]
  },
  {
   "cell_type": "code",
   "execution_count": null,
   "metadata": {},
   "outputs": [],
   "source": [
    "X_train, X_val, y_train, y_val = train_test_split(X, y, test_size = 0.2, stratify = y)"
   ]
  },
  {
   "cell_type": "code",
   "execution_count": null,
   "metadata": {},
   "outputs": [
    {
     "data": {
      "text/plain": [
       "LogisticRegression()"
      ]
     },
     "execution_count": 26,
     "metadata": {},
     "output_type": "execute_result"
    }
   ],
   "source": [
    "lr = LogisticRegression()\n",
    "lr.fit(X_train, y_train)"
   ]
  },
  {
   "cell_type": "code",
   "execution_count": 27,
   "metadata": {},
   "outputs": [
    {
     "name": "stdout",
     "output_type": "stream",
     "text": [
      "Logistic Regression Accuracy : 0.653014241353464\n",
      "Logistic Regression Precision: 0.6494701059788043\n",
      "Logistic Regression Recall   : 0.6858832224685883\n"
     ]
    }
   ],
   "source": [
    "predicted = lr.predict(X_val)\n",
    "\n",
    "print(f'Logistic Regression Accuracy : {metrics.accuracy_score(y_val, predicted)}')\n",
    "print(f'Logistic Regression Precision: {metrics.precision_score(y_val, predicted)}')\n",
    "print(f'Logistic Regression Recall   : {metrics.recall_score(y_val, predicted)}')"
   ]
  },
  {
   "cell_type": "code",
   "execution_count": 95,
   "metadata": {},
   "outputs": [
    {
     "data": {
      "text/plain": [
       "array([[6159, 3353],\n",
       "       [3465, 6309]])"
      ]
     },
     "execution_count": 95,
     "metadata": {},
     "output_type": "execute_result"
    }
   ],
   "source": [
    "confusion_matrix(y_val, predicted)"
   ]
  },
  {
   "cell_type": "code",
   "execution_count": 100,
   "metadata": {},
   "outputs": [
    {
     "data": {
      "text/html": [
       "<div>\n",
       "<style scoped>\n",
       "    .dataframe tbody tr th:only-of-type {\n",
       "        vertical-align: middle;\n",
       "    }\n",
       "\n",
       "    .dataframe tbody tr th {\n",
       "        vertical-align: top;\n",
       "    }\n",
       "\n",
       "    .dataframe thead th {\n",
       "        text-align: right;\n",
       "    }\n",
       "</style>\n",
       "<table border=\"1\" class=\"dataframe\">\n",
       "  <thead>\n",
       "    <tr style=\"text-align: right;\">\n",
       "      <th></th>\n",
       "      <th>post</th>\n",
       "      <th>word_count</th>\n",
       "      <th>gender</th>\n",
       "      <th>gender_pred</th>\n",
       "    </tr>\n",
       "  </thead>\n",
       "  <tbody>\n",
       "    <tr>\n",
       "      <th>104274</th>\n",
       "      <td>loophole h bush administration economic stimul...</td>\n",
       "      <td>417.0</td>\n",
       "      <td>1</td>\n",
       "      <td>1</td>\n",
       "    </tr>\n",
       "    <tr>\n",
       "      <th>8574</th>\n",
       "      <td>know p j best thing world complicated right wr...</td>\n",
       "      <td>131.0</td>\n",
       "      <td>0</td>\n",
       "      <td>0</td>\n",
       "    </tr>\n",
       "    <tr>\n",
       "      <th>74313</th>\n",
       "      <td>year star wars fan film awards finalists fate ...</td>\n",
       "      <td>36.0</td>\n",
       "      <td>1</td>\n",
       "      <td>1</td>\n",
       "    </tr>\n",
       "    <tr>\n",
       "      <th>95729</th>\n",
       "      <td>example pictures</td>\n",
       "      <td>9.0</td>\n",
       "      <td>1</td>\n",
       "      <td>1</td>\n",
       "    </tr>\n",
       "    <tr>\n",
       "      <th>103380</th>\n",
       "      <td>section home best loyal passionate soccer fans...</td>\n",
       "      <td>931.0</td>\n",
       "      <td>1</td>\n",
       "      <td>1</td>\n",
       "    </tr>\n",
       "    <tr>\n",
       "      <th>...</th>\n",
       "      <td>...</td>\n",
       "      <td>...</td>\n",
       "      <td>...</td>\n",
       "      <td>...</td>\n",
       "    </tr>\n",
       "    <tr>\n",
       "      <th>104044</th>\n",
       "      <td>found today stories going published new yinzer...</td>\n",
       "      <td>88.0</td>\n",
       "      <td>0</td>\n",
       "      <td>1</td>\n",
       "    </tr>\n",
       "    <tr>\n",
       "      <th>92215</th>\n",
       "      <td>apologies sparta collapse looking recent posts...</td>\n",
       "      <td>645.0</td>\n",
       "      <td>1</td>\n",
       "      <td>0</td>\n",
       "    </tr>\n",
       "    <tr>\n",
       "      <th>3619</th>\n",
       "      <td>loads things write aabout right right feel lik...</td>\n",
       "      <td>49.0</td>\n",
       "      <td>0</td>\n",
       "      <td>0</td>\n",
       "    </tr>\n",
       "    <tr>\n",
       "      <th>29998</th>\n",
       "      <td>look people drugs drink excessively sex outsid...</td>\n",
       "      <td>561.0</td>\n",
       "      <td>1</td>\n",
       "      <td>1</td>\n",
       "    </tr>\n",
       "    <tr>\n",
       "      <th>91979</th>\n",
       "      <td>t shirt says today misadventures css coding le...</td>\n",
       "      <td>297.0</td>\n",
       "      <td>1</td>\n",
       "      <td>1</td>\n",
       "    </tr>\n",
       "  </tbody>\n",
       "</table>\n",
       "<p>19286 rows × 4 columns</p>\n",
       "</div>"
      ],
      "text/plain": [
       "                                                     post  word_count  gender  \\\n",
       "104274  loophole h bush administration economic stimul...       417.0       1   \n",
       "8574    know p j best thing world complicated right wr...       131.0       0   \n",
       "74313   year star wars fan film awards finalists fate ...        36.0       1   \n",
       "95729                                    example pictures         9.0       1   \n",
       "103380  section home best loyal passionate soccer fans...       931.0       1   \n",
       "...                                                   ...         ...     ...   \n",
       "104044  found today stories going published new yinzer...        88.0       0   \n",
       "92215   apologies sparta collapse looking recent posts...       645.0       1   \n",
       "3619    loads things write aabout right right feel lik...        49.0       0   \n",
       "29998   look people drugs drink excessively sex outsid...       561.0       1   \n",
       "91979   t shirt says today misadventures css coding le...       297.0       1   \n",
       "\n",
       "        gender_pred  \n",
       "104274            1  \n",
       "8574              0  \n",
       "74313             1  \n",
       "95729             1  \n",
       "103380            1  \n",
       "...             ...  \n",
       "104044            1  \n",
       "92215             0  \n",
       "3619              0  \n",
       "29998             1  \n",
       "91979             1  \n",
       "\n",
       "[19286 rows x 4 columns]"
      ]
     },
     "execution_count": 100,
     "metadata": {},
     "output_type": "execute_result"
    }
   ],
   "source": [
    "data_val = data.iloc[X_val.index][['post', 'word_count', 'gender']]\n",
    "data_val['gender_pred'] = predicted\n",
    "\n",
    "data_val"
   ]
  },
  {
   "cell_type": "code",
   "execution_count": 101,
   "metadata": {},
   "outputs": [
    {
     "data": {
      "text/html": [
       "<div>\n",
       "<style scoped>\n",
       "    .dataframe tbody tr th:only-of-type {\n",
       "        vertical-align: middle;\n",
       "    }\n",
       "\n",
       "    .dataframe tbody tr th {\n",
       "        vertical-align: top;\n",
       "    }\n",
       "\n",
       "    .dataframe thead th {\n",
       "        text-align: right;\n",
       "    }\n",
       "</style>\n",
       "<table border=\"1\" class=\"dataframe\">\n",
       "  <thead>\n",
       "    <tr style=\"text-align: right;\">\n",
       "      <th></th>\n",
       "      <th>post</th>\n",
       "      <th>word_count</th>\n",
       "      <th>gender</th>\n",
       "      <th>gender_pred</th>\n",
       "    </tr>\n",
       "  </thead>\n",
       "  <tbody>\n",
       "    <tr>\n",
       "      <th>34571</th>\n",
       "      <td>yoz todae skl le actualyl bad la onli dat mi v...</td>\n",
       "      <td>203.0</td>\n",
       "      <td>1</td>\n",
       "      <td>0</td>\n",
       "    </tr>\n",
       "    <tr>\n",
       "      <th>100221</th>\n",
       "      <td>working like hell got low self respect level j...</td>\n",
       "      <td>382.0</td>\n",
       "      <td>1</td>\n",
       "      <td>0</td>\n",
       "    </tr>\n",
       "    <tr>\n",
       "      <th>65813</th>\n",
       "      <td>real holy time yesterday mike cope mentions ki...</td>\n",
       "      <td>383.0</td>\n",
       "      <td>1</td>\n",
       "      <td>0</td>\n",
       "    </tr>\n",
       "    <tr>\n",
       "      <th>12907</th>\n",
       "      <td>mobile phone closed monday long irritating sto...</td>\n",
       "      <td>34.0</td>\n",
       "      <td>0</td>\n",
       "      <td>1</td>\n",
       "    </tr>\n",
       "    <tr>\n",
       "      <th>89444</th>\n",
       "      <td>avenged sevenfold amazing band man ought cd go...</td>\n",
       "      <td>44.0</td>\n",
       "      <td>0</td>\n",
       "      <td>1</td>\n",
       "    </tr>\n",
       "    <tr>\n",
       "      <th>...</th>\n",
       "      <td>...</td>\n",
       "      <td>...</td>\n",
       "      <td>...</td>\n",
       "      <td>...</td>\n",
       "    </tr>\n",
       "    <tr>\n",
       "      <th>69575</th>\n",
       "      <td>xe com universal currency converter tm</td>\n",
       "      <td>8.0</td>\n",
       "      <td>0</td>\n",
       "      <td>1</td>\n",
       "    </tr>\n",
       "    <tr>\n",
       "      <th>17456</th>\n",
       "      <td>ok post tell aabout title late test results ex...</td>\n",
       "      <td>152.0</td>\n",
       "      <td>1</td>\n",
       "      <td>0</td>\n",
       "    </tr>\n",
       "    <tr>\n",
       "      <th>82432</th>\n",
       "      <td>imagine life time</td>\n",
       "      <td>14.0</td>\n",
       "      <td>0</td>\n",
       "      <td>1</td>\n",
       "    </tr>\n",
       "    <tr>\n",
       "      <th>104044</th>\n",
       "      <td>found today stories going published new yinzer...</td>\n",
       "      <td>88.0</td>\n",
       "      <td>0</td>\n",
       "      <td>1</td>\n",
       "    </tr>\n",
       "    <tr>\n",
       "      <th>92215</th>\n",
       "      <td>apologies sparta collapse looking recent posts...</td>\n",
       "      <td>645.0</td>\n",
       "      <td>1</td>\n",
       "      <td>0</td>\n",
       "    </tr>\n",
       "  </tbody>\n",
       "</table>\n",
       "<p>6818 rows × 4 columns</p>\n",
       "</div>"
      ],
      "text/plain": [
       "                                                     post  word_count  gender  \\\n",
       "34571   yoz todae skl le actualyl bad la onli dat mi v...       203.0       1   \n",
       "100221  working like hell got low self respect level j...       382.0       1   \n",
       "65813   real holy time yesterday mike cope mentions ki...       383.0       1   \n",
       "12907   mobile phone closed monday long irritating sto...        34.0       0   \n",
       "89444   avenged sevenfold amazing band man ought cd go...        44.0       0   \n",
       "...                                                   ...         ...     ...   \n",
       "69575              xe com universal currency converter tm         8.0       0   \n",
       "17456   ok post tell aabout title late test results ex...       152.0       1   \n",
       "82432                                   imagine life time        14.0       0   \n",
       "104044  found today stories going published new yinzer...        88.0       0   \n",
       "92215   apologies sparta collapse looking recent posts...       645.0       1   \n",
       "\n",
       "        gender_pred  \n",
       "34571             0  \n",
       "100221            0  \n",
       "65813             0  \n",
       "12907             1  \n",
       "89444             1  \n",
       "...             ...  \n",
       "69575             1  \n",
       "17456             0  \n",
       "82432             1  \n",
       "104044            1  \n",
       "92215             0  \n",
       "\n",
       "[6818 rows x 4 columns]"
      ]
     },
     "execution_count": 101,
     "metadata": {},
     "output_type": "execute_result"
    }
   ],
   "source": [
    "data_val[data_val.gender != data_val.gender_pred]"
   ]
  },
  {
   "cell_type": "code",
   "execution_count": 236,
   "metadata": {},
   "outputs": [
    {
     "name": "stdout",
     "output_type": "stream",
     "text": [
      "Fitting 5 folds for each of 12 candidates, totalling 60 fits\n",
      "[CV 1/5] END ...................C=0.1, penalty=l1;, score=nan total time=   0.1s\n",
      "[CV 2/5] END ...................C=0.1, penalty=l1;, score=nan total time=   0.0s\n",
      "[CV 3/5] END ...................C=0.1, penalty=l1;, score=nan total time=   0.0s\n",
      "[CV 4/5] END ...................C=0.1, penalty=l1;, score=nan total time=   0.0s\n",
      "[CV 5/5] END ...................C=0.1, penalty=l1;, score=nan total time=   0.0s\n",
      "[CV 1/5] END .................C=0.1, penalty=l2;, score=0.637 total time=   1.5s\n",
      "[CV 2/5] END .................C=0.1, penalty=l2;, score=0.633 total time=   1.5s\n",
      "[CV 3/5] END .................C=0.1, penalty=l2;, score=0.631 total time=   1.5s\n",
      "[CV 4/5] END .................C=0.1, penalty=l2;, score=0.625 total time=   1.5s\n",
      "[CV 5/5] END .................C=0.1, penalty=l2;, score=0.636 total time=   1.6s\n",
      "[CV 1/5] END .....................C=1, penalty=l1;, score=nan total time=   0.0s\n",
      "[CV 2/5] END .....................C=1, penalty=l1;, score=nan total time=   0.0s\n",
      "[CV 3/5] END .....................C=1, penalty=l1;, score=nan total time=   0.0s\n",
      "[CV 4/5] END .....................C=1, penalty=l1;, score=nan total time=   0.0s\n",
      "[CV 5/5] END .....................C=1, penalty=l1;, score=nan total time=   0.0s\n",
      "[CV 1/5] END ...................C=1, penalty=l2;, score=0.637 total time=   1.6s\n",
      "[CV 2/5] END ...................C=1, penalty=l2;, score=0.638 total time=   1.5s\n",
      "[CV 3/5] END ...................C=1, penalty=l2;, score=0.629 total time=   1.5s\n",
      "[CV 4/5] END ...................C=1, penalty=l2;, score=0.625 total time=   1.4s\n",
      "[CV 5/5] END ...................C=1, penalty=l2;, score=0.635 total time=   1.4s\n",
      "[CV 1/5] END ....................C=10, penalty=l1;, score=nan total time=   0.0s\n",
      "[CV 2/5] END ....................C=10, penalty=l1;, score=nan total time=   0.0s\n",
      "[CV 3/5] END ....................C=10, penalty=l1;, score=nan total time=   0.0s\n",
      "[CV 4/5] END ....................C=10, penalty=l1;, score=nan total time=   0.0s\n",
      "[CV 5/5] END ....................C=10, penalty=l1;, score=nan total time=   0.0s\n",
      "[CV 1/5] END ..................C=10, penalty=l2;, score=0.638 total time=   1.6s\n",
      "[CV 2/5] END ..................C=10, penalty=l2;, score=0.632 total time=   1.5s\n",
      "[CV 3/5] END ..................C=10, penalty=l2;, score=0.629 total time=   1.4s\n",
      "[CV 4/5] END ..................C=10, penalty=l2;, score=0.625 total time=   1.4s\n",
      "[CV 5/5] END ..................C=10, penalty=l2;, score=0.637 total time=   1.5s\n",
      "[CV 1/5] END ....................C=50, penalty=l1;, score=nan total time=   0.0s\n",
      "[CV 2/5] END ....................C=50, penalty=l1;, score=nan total time=   0.0s\n",
      "[CV 3/5] END ....................C=50, penalty=l1;, score=nan total time=   0.0s\n",
      "[CV 4/5] END ....................C=50, penalty=l1;, score=nan total time=   0.0s\n",
      "[CV 5/5] END ....................C=50, penalty=l1;, score=nan total time=   0.0s\n",
      "[CV 1/5] END ..................C=50, penalty=l2;, score=0.638 total time=   1.5s\n",
      "[CV 2/5] END ..................C=50, penalty=l2;, score=0.635 total time=   1.5s\n",
      "[CV 3/5] END ..................C=50, penalty=l2;, score=0.627 total time=   1.4s\n",
      "[CV 4/5] END ..................C=50, penalty=l2;, score=0.627 total time=   1.5s\n",
      "[CV 5/5] END ..................C=50, penalty=l2;, score=0.635 total time=   1.4s\n",
      "[CV 1/5] END ...................C=100, penalty=l1;, score=nan total time=   0.0s\n",
      "[CV 2/5] END ...................C=100, penalty=l1;, score=nan total time=   0.0s\n",
      "[CV 3/5] END ...................C=100, penalty=l1;, score=nan total time=   0.0s\n",
      "[CV 4/5] END ...................C=100, penalty=l1;, score=nan total time=   0.0s\n",
      "[CV 5/5] END ...................C=100, penalty=l1;, score=nan total time=   0.0s\n",
      "[CV 1/5] END .................C=100, penalty=l2;, score=0.637 total time=   1.6s\n",
      "[CV 2/5] END .................C=100, penalty=l2;, score=0.631 total time=   1.5s\n",
      "[CV 3/5] END .................C=100, penalty=l2;, score=0.629 total time=   1.4s\n",
      "[CV 4/5] END .................C=100, penalty=l2;, score=0.624 total time=   1.4s\n",
      "[CV 5/5] END .................C=100, penalty=l2;, score=0.638 total time=   1.5s\n",
      "[CV 1/5] END ..................C=1000, penalty=l1;, score=nan total time=   0.0s\n",
      "[CV 2/5] END ..................C=1000, penalty=l1;, score=nan total time=   0.0s\n",
      "[CV 3/5] END ..................C=1000, penalty=l1;, score=nan total time=   0.0s\n",
      "[CV 4/5] END ..................C=1000, penalty=l1;, score=nan total time=   0.0s\n",
      "[CV 5/5] END ..................C=1000, penalty=l1;, score=nan total time=   0.0s\n",
      "[CV 1/5] END ................C=1000, penalty=l2;, score=0.636 total time=   1.5s\n",
      "[CV 2/5] END ................C=1000, penalty=l2;, score=0.635 total time=   1.5s\n",
      "[CV 3/5] END ................C=1000, penalty=l2;, score=0.629 total time=   1.5s\n",
      "[CV 4/5] END ................C=1000, penalty=l2;, score=0.624 total time=   1.5s\n",
      "[CV 5/5] END ................C=1000, penalty=l2;, score=0.635 total time=   1.4s\n",
      "Mean Accuracy: 0.633\n",
      "Config: {'C': 1, 'penalty': 'l2'}\n"
     ]
    }
   ],
   "source": [
    "param_grid = {\n",
    "    'C': [0.1, 1, 10, 50, 100, 1000],\n",
    "    'penalty': ['l1', 'l2'] #,\n",
    "    # 'max_iter': list(range(100,800,100)),\n",
    "    #'solver': ['newton-cg', 'lbfgs', 'liblinear', 'sag', 'saga']\n",
    "}\n",
    "lr_search = GridSearchCV(lr, param_grid=param_grid, refit = True, verbose = 3, cv=5)\n",
    "\n",
    "# fitting the model for grid search \n",
    "lr_search.fit(X_train , y_train)\n",
    "lr_search.best_params_\n",
    "# summarize\n",
    "print('Mean Accuracy: %.3f' % lr_search.best_score_)\n",
    "print('Config: %s' % lr_search.best_params_)"
   ]
  },
  {
   "cell_type": "code",
   "execution_count": 237,
   "metadata": {},
   "outputs": [
    {
     "data": {
      "text/plain": [
       "LogisticRegression(C=1)"
      ]
     },
     "execution_count": 237,
     "metadata": {},
     "output_type": "execute_result"
    }
   ],
   "source": [
    "lr = LogisticRegression(C = 1, penalty = 'l2')\n",
    "lr.fit(X_train, y_train)"
   ]
  },
  {
   "cell_type": "code",
   "execution_count": 238,
   "metadata": {},
   "outputs": [
    {
     "name": "stdout",
     "output_type": "stream",
     "text": [
      "Logistic Accuracy after Regularization : 0.63975\n",
      "Logistic Precision after Regularization: 0.6488718775181306\n",
      "Logistic Recall after Regularization   : 0.6339927172522389\n"
     ]
    }
   ],
   "source": [
    "predicted = lr.predict(X_val)\n",
    "\n",
    "print(f'Logistic Accuracy after Regularization : {metrics.accuracy_score(y_val, predicted)}')\n",
    "print(f'Logistic Precision after Regularization: {metrics.precision_score(y_val, predicted)}')\n",
    "print(f'Logistic Recall after Regularization   : {metrics.recall_score(y_val, predicted)}')"
   ]
  },
  {
   "cell_type": "code",
   "execution_count": null,
   "metadata": {},
   "outputs": [],
   "source": []
  },
  {
   "cell_type": "markdown",
   "metadata": {},
   "source": [
    "## Confrontare diversi modelli"
   ]
  },
  {
   "cell_type": "code",
   "execution_count": 11,
   "metadata": {},
   "outputs": [
    {
     "name": "stderr",
     "output_type": "stream",
     "text": [
      " 33%|███▎      | 1/3 [03:15<06:31, 195.59s/it]"
     ]
    },
    {
     "name": "stdout",
     "output_type": "stream",
     "text": [
      "RandomForestClassifier: Mean Accuracy = 61.73%; Mean F1-macro = 61.65%; Mean recall-macro = 61.67%; Mean precision-macro = 61.74%\n"
     ]
    },
    {
     "name": "stderr",
     "output_type": "stream",
     "text": [
      " 67%|██████▋   | 2/3 [03:42<01:36, 96.22s/it] "
     ]
    },
    {
     "name": "stdout",
     "output_type": "stream",
     "text": [
      "LinearSVC: Mean Accuracy = 64.03%; Mean F1-macro = 64.02%; Mean recall-macro = 64.03%; Mean precision-macro = 64.03%\n"
     ]
    },
    {
     "name": "stderr",
     "output_type": "stream",
     "text": [
      "100%|██████████| 3/3 [04:06<00:00, 82.03s/it]"
     ]
    },
    {
     "name": "stdout",
     "output_type": "stream",
     "text": [
      "LogisticRegression: Mean Accuracy = 63.95%; Mean F1-macro = 63.95%; Mean recall-macro = 63.95%; Mean precision-macro = 63.95%\n"
     ]
    },
    {
     "name": "stderr",
     "output_type": "stream",
     "text": [
      "\n"
     ]
    }
   ],
   "source": [
    "from sklearn.ensemble import RandomForestClassifier\n",
    "from sklearn.svm import LinearSVC\n",
    "from sklearn.linear_model import LogisticRegression\n",
    "\n",
    "from sklearn.model_selection import StratifiedKFold\n",
    "from sklearn.model_selection import cross_validate\n",
    "\n",
    "#  defining models and associated parameters\n",
    "models = [RandomForestClassifier(n_estimators = 100, max_depth=5, random_state=42), \n",
    "          LinearSVC(random_state=42),\n",
    "          LogisticRegression(random_state=42)]\n",
    "\n",
    "kf = StratifiedKFold(n_splits=5, shuffle=True, random_state=1) # With StratifiedKFold, the folds are made by preserving the percentage of samples for each class.\n",
    "\n",
    "scoring = ['accuracy', 'f1_macro', 'recall_macro', 'precision_macro']\n",
    "\n",
    "#  iterative loop print metrics from each model\n",
    "for model in tqdm(models):\n",
    "    model_name = model.__class__.__name__\n",
    "    result = cross_validate(model, X_train, y_train, cv=kf, scoring=scoring)\n",
    "    print(\"%s: Mean Accuracy = %.2f%%; Mean F1-macro = %.2f%%; Mean recall-macro = %.2f%%; Mean precision-macro = %.2f%%\" \n",
    "          % (model_name, \n",
    "             result['test_accuracy'].mean()*100, \n",
    "             result['test_f1_macro'].mean()*100, \n",
    "             result['test_recall_macro'].mean()*100, \n",
    "             result['test_precision_macro'].mean()*100))"
   ]
  },
  {
   "cell_type": "code",
   "execution_count": null,
   "metadata": {},
   "outputs": [],
   "source": []
  },
  {
   "cell_type": "markdown",
   "metadata": {},
   "source": [
    "## Age_class"
   ]
  },
  {
   "cell_type": "code",
   "execution_count": 38,
   "metadata": {},
   "outputs": [],
   "source": [
    "X = data['embedding'].to_list() # ,'has_young_word', 'word_count', 'has_emoticon', 'has_punctuation', 'has_URL'\n",
    "# X = pd.DataFrame(embedding['embedding'].to_list(), columns=[f'embedding_{i+1}' for i in range(384)])\n",
    "# X = pd.concat([X, features], axis = 1)\n",
    "y = data['age_class'].to_list()"
   ]
  },
  {
   "cell_type": "code",
   "execution_count": 39,
   "metadata": {},
   "outputs": [
    {
     "name": "stdout",
     "output_type": "stream",
     "text": [
      "The train set has 74710 rows, while the validation set contains 18678 rows: 80% vs 20%.\n"
     ]
    }
   ],
   "source": [
    "X_train, X_val, y_train, y_val = train_test_split(X, y, test_size = 0.2, stratify = y) # stratification on the y to avoid class imbalancement\n",
    "\n",
    "print(f'The train set has {len(X_train)} rows, while the validation set contains {len(X_val)} rows: 80% vs 20%.')"
   ]
  },
  {
   "cell_type": "code",
   "execution_count": 40,
   "metadata": {},
   "outputs": [
    {
     "data": {
      "text/plain": [
       "LogisticRegression(class_weight={0: 1.1, 1: 1, 2: 1.25},\n",
       "                   multi_class='multinomial')"
      ]
     },
     "execution_count": 40,
     "metadata": {},
     "output_type": "execute_result"
    }
   ],
   "source": [
    "model = LogisticRegression(multi_class='multinomial', solver='lbfgs', class_weight = {0: 1.1, 1: 1, 2: 1.25})\n",
    "model.fit(X_train, y_train)"
   ]
  },
  {
   "cell_type": "code",
   "execution_count": 41,
   "metadata": {},
   "outputs": [
    {
     "name": "stdout",
     "output_type": "stream",
     "text": [
      "Multinomial Logistic Regression Accuracy : 0.6050969054502623\n",
      "Multinomial Logistic Regression Balanced Score : 0.5389280295681095\n"
     ]
    }
   ],
   "source": [
    "from sklearn.metrics import accuracy_score, balanced_accuracy_score\n",
    "\n",
    "predicted = model.predict(X_val)\n",
    "\n",
    "print(f'Multinomial Logistic Regression Accuracy : {metrics.accuracy_score(y_val, predicted)}')\n",
    "print(f'Multinomial Logistic Regression Balanced Score : {metrics.balanced_accuracy_score(y_val, predicted)}')"
   ]
  },
  {
   "cell_type": "code",
   "execution_count": 32,
   "metadata": {},
   "outputs": [
    {
     "data": {
      "text/plain": [
       "array([[4085, 2068,  198],\n",
       "       [1720, 6314,  778],\n",
       "       [ 395, 2261,  859]])"
      ]
     },
     "execution_count": 32,
     "metadata": {},
     "output_type": "execute_result"
    }
   ],
   "source": [
    "from sklearn.metrics import confusion_matrix\n",
    "\n",
    "confusion_matrix(y_val, predicted)"
   ]
  },
  {
   "cell_type": "markdown",
   "metadata": {},
   "source": [
    "### Performance on test set"
   ]
  },
  {
   "cell_type": "code",
   "execution_count": 25,
   "metadata": {},
   "outputs": [
    {
     "name": "stdout",
     "output_type": "stream",
     "text": [
      "Logistic Regression Accuracy  : 0.6007301845403366\n",
      "Logistic Regression Balanced Score : 0.5106510235753629\n"
     ]
    }
   ],
   "source": [
    "X_train = data['embedding'].to_list()\n",
    "y_train = data['age_class'].to_list()\n",
    "\n",
    "X_test = test['embedding'].to_list()\n",
    "y_test = test['age_class'].to_list()\n",
    "\n",
    "lr = LogisticRegression()\n",
    "lr.fit(X_train, y_train)\n",
    "\n",
    "predicted = lr.predict(X_test)\n",
    "\n",
    "print(f'Logistic Regression Accuracy  : {metrics.accuracy_score(y_test, predicted)}')\n",
    "print(f'Logistic Regression Balanced Score : {metrics.balanced_accuracy_score(y_test, predicted)}')"
   ]
  },
  {
   "cell_type": "markdown",
   "metadata": {},
   "source": [
    "#### What if we add the features?"
   ]
  },
  {
   "cell_type": "code",
   "execution_count": 179,
   "metadata": {},
   "outputs": [
    {
     "data": {
      "text/plain": [
       "Index(['clean_post', 'has_emoticon', 'has_punctuation', 'has_URL',\n",
       "       'has_capital', 'girl_word', 'boy_word', 'young_word', 'medium_word',\n",
       "       'old_word', 'word_count'],\n",
       "      dtype='object')"
      ]
     },
     "execution_count": 179,
     "metadata": {},
     "output_type": "execute_result"
    }
   ],
   "source": [
    "features.columns"
   ]
  },
  {
   "cell_type": "code",
   "execution_count": 33,
   "metadata": {},
   "outputs": [],
   "source": [
    "X = pd.DataFrame(data['embedding'].to_list(), columns=[f'embedding_{i+1}' for i in range(384)])\n",
    "X = pd.concat([X.reset_index(drop=True), data[data.columns.difference(['embedding', 'post', 'clean_post', 'gender', 'age_class', 'has_capital'])].reset_index(drop=True)], axis = 1) \n",
    "\n",
    "y = data['age_class'].to_list()"
   ]
  },
  {
   "cell_type": "code",
   "execution_count": 34,
   "metadata": {},
   "outputs": [
    {
     "name": "stdout",
     "output_type": "stream",
     "text": [
      "The train set has 74710 rows, while the validation set contains 18678 rows: 80% vs 20%.\n"
     ]
    }
   ],
   "source": [
    "X_train, X_val, y_train, y_val = train_test_split(X, y, test_size = 0.2, stratify = y) # stratification on the y to avoid class imbalancement\n",
    "\n",
    "print(f'The train set has {len(X_train)} rows, while the validation set contains {len(X_val)} rows: 80% vs 20%.')"
   ]
  },
  {
   "cell_type": "code",
   "execution_count": 35,
   "metadata": {},
   "outputs": [
    {
     "data": {
      "text/plain": [
       "LogisticRegression(multi_class='multinomial')"
      ]
     },
     "execution_count": 35,
     "metadata": {},
     "output_type": "execute_result"
    }
   ],
   "source": [
    "model = LogisticRegression(multi_class='multinomial')\n",
    "model.fit(X_train, y_train)"
   ]
  },
  {
   "cell_type": "code",
   "execution_count": 37,
   "metadata": {},
   "outputs": [
    {
     "name": "stdout",
     "output_type": "stream",
     "text": [
      "Multinomial Logistic Regression Accuracy : 0.6038655102259343\n",
      "Multinomial Logistic Regression Accuracy : 0.5015687138751751\n"
     ]
    }
   ],
   "source": [
    "from sklearn.metrics import accuracy_score, balanced_accuracy_score, classification_report\n",
    "\n",
    "predicted = model.predict(X_val)\n",
    "\n",
    "print(f'Multinomial Logistic Regression Accuracy : {metrics.accuracy_score(y_val, predicted)}')\n",
    "print(f'Multinomial Logistic Regression Accuracy : {metrics.balanced_accuracy_score(y_val, predicted)}')\n"
   ]
  },
  {
   "cell_type": "code",
   "execution_count": 179,
   "metadata": {},
   "outputs": [
    {
     "data": {
      "text/plain": [
       "array([[4110, 2559,  120],\n",
       "       [1573, 7404,  486],\n",
       "       [ 339, 2803,  606]])"
      ]
     },
     "execution_count": 179,
     "metadata": {},
     "output_type": "execute_result"
    }
   ],
   "source": [
    "confusion_matrix(y_val, predicted)"
   ]
  }
 ],
 "metadata": {
  "kernelspec": {
   "display_name": "base",
   "language": "python",
   "name": "python3"
  },
  "language_info": {
   "codemirror_mode": {
    "name": "ipython",
    "version": 3
   },
   "file_extension": ".py",
   "mimetype": "text/x-python",
   "name": "python",
   "nbconvert_exporter": "python",
   "pygments_lexer": "ipython3",
   "version": "3.9.12"
  },
  "orig_nbformat": 4
 },
 "nbformat": 4,
 "nbformat_minor": 2
}
